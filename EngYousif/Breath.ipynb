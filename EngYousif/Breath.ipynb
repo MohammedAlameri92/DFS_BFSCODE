{
 "cells": [
  {
   "cell_type": "markdown",
   "metadata": {},
   "source": [
    "**The bfs function processes nodes level by level.\n",
    "It uses a queue to keep track of nodes to visit and a set to track visited nodes.\n",
    "The example defines a simple graph and starts BFS from node 'A**"
   ]
  },
  {
   "cell_type": "code",
   "execution_count": 9,
   "metadata": {},
   "outputs": [
    {
     "name": "stdout",
     "output_type": "stream",
     "text": [
      "A\n",
      "B\n",
      "C\n",
      "D\n",
      "E\n",
      "F\n"
     ]
    }
   ],
   "source": [
    "from collections import deque\n",
    "\n",
    "class Graph:\n",
    "    def __init__(self):  #: Initializes the graph as an empty dictionary.\n",
    "        self.graph = {}\n",
    "\n",
    "    def ad(self, u, v):  # Adds an undirected edge between two nodes u and v.\n",
    "        if u not in self.graph:\n",
    "            self.graph[u] = []\n",
    "        if v not in self.graph:\n",
    "            self.graph[v] = []\n",
    "        self.graph[u].append(v)\n",
    "        self.graph[v].append(u)  # For undirected graph\n",
    "\n",
    "    def bfs(self, start):\n",
    "        visited = set()\n",
    "        B = deque([start])\n",
    "        visited.add(start)\n",
    "\n",
    "        while B:\n",
    "            node = B.popleft()\n",
    "            print(node)  # Process of the node\n",
    "\n",
    "            for neighbor in self.graph[node]:\n",
    "                if neighbor not in visited:\n",
    "                    visited.add(neighbor)\n",
    "                    B.append(neighbor)\n",
    "\n",
    "\n",
    "# Example usage\n",
    "if __name__ == \"__main__\":\n",
    "    g = Graph()\n",
    "    g.ad('A', 'B')\n",
    "    g.ad('A', 'C')\n",
    "    g.ad('B', 'D')\n",
    "    g.ad('B', 'E')\n",
    "    g.ad('C', 'F')\n",
    "    g.ad('E', 'F')\n",
    "\n",
    "    # Start BFS from node 'A'\n",
    "    g.bfs('A')"
   ]
  }
 ],
 "metadata": {
  "kernelspec": {
   "display_name": "rptodo-project",
   "language": "python",
   "name": "python3"
  },
  "language_info": {
   "codemirror_mode": {
    "name": "ipython",
    "version": 3
   },
   "file_extension": ".py",
   "mimetype": "text/x-python",
   "name": "python",
   "nbconvert_exporter": "python",
   "pygments_lexer": "ipython3",
   "version": "3.11.4"
  }
 },
 "nbformat": 4,
 "nbformat_minor": 2
}
