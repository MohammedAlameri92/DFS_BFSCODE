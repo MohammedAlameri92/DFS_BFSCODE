{
 "cells": [
  {
   "cell_type": "markdown",
   "metadata": {},
   "source": [
    "**The Graph class initializes an empty graph as a dictionary.\n",
    "The add_edge method adds edges between nodes, ensuring both nodes are included in the graph.\n",
    "The dfs method performs a depth-first search starting from a specified node, marking nodes as visited and printing them.\n",
    "The example usage creates a graph and performs DFS from node 'A'.**"
   ]
  },
  {
   "cell_type": "code",
   "execution_count": 2,
   "metadata": {},
   "outputs": [
    {
     "name": "stdout",
     "output_type": "stream",
     "text": [
      "A\n",
      "B\n",
      "D\n",
      "E\n",
      "F\n",
      "C\n"
     ]
    }
   ],
   "source": [
    "class GraphDFS:\n",
    "    def __init__(self):\n",
    "        self.graph = {}\n",
    "\n",
    "    def add_edge(self, u, v):\n",
    "        if u not in self.graph:\n",
    "            self.graph[u] = []\n",
    "        if v not in self.graph:\n",
    "            self.graph[v] = []\n",
    "        self.graph[u].append(v)\n",
    "        self.graph[v].append(u)  # For undirected graph\n",
    "\n",
    "    def dfs(self, start, visited=None):\n",
    "        if visited is None:\n",
    "            visited = set()\n",
    "\n",
    "        visited.add(start)\n",
    "        print(start)  # Process the node\n",
    "\n",
    "        for neighbor in self.graph[start]:\n",
    "            if neighbor not in visited:\n",
    "                self.dfs(neighbor, visited)\n",
    "\n",
    "        return visited\n",
    "\n",
    "\n",
    "# Example usage\n",
    "if __name__ == \"__main__\":\n",
    "    g = GraphDFS()\n",
    "    g.add_edge('A', 'B')\n",
    "    g.add_edge('A', 'C')\n",
    "    g.add_edge('B', 'D')\n",
    "    g.add_edge('B', 'E')\n",
    "    g.add_edge('C', 'F')\n",
    "    g.add_edge('E', 'F')\n",
    "\n",
    "    # Start DFS from node 'A'\n",
    "    g.dfs('A')"
   ]
  }
 ],
 "metadata": {
  "kernelspec": {
   "display_name": "rptodo-project",
   "language": "python",
   "name": "python3"
  },
  "language_info": {
   "codemirror_mode": {
    "name": "ipython",
    "version": 3
   },
   "file_extension": ".py",
   "mimetype": "text/x-python",
   "name": "python",
   "nbconvert_exporter": "python",
   "pygments_lexer": "ipython3",
   "version": "3.11.4"
  }
 },
 "nbformat": 4,
 "nbformat_minor": 2
}
